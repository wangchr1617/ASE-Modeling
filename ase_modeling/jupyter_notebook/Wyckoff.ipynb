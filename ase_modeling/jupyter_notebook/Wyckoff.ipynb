{
 "cells": [
  {
   "cell_type": "markdown",
   "id": "df548b5d",
   "metadata": {},
   "source": [
    "## 根据空间群和 Wyckoff 位置生成结构文件"
   ]
  },
  {
   "cell_type": "code",
   "execution_count": 1,
   "id": "0e7749f4",
   "metadata": {},
   "outputs": [],
   "source": [
    "from ase.io import write\n",
    "from ase.spacegroup import crystal\n",
    "from ase.visualize import view\n",
    "\n",
    "a, b, c = 2.9343, 18.8911, 2.9733\n",
    "spacegroup = 71\n",
    "\n",
    "atoms = [('Cr', [0, 0.2936, 0]), \n",
    "         ('Cr', [0.5, 0.5859, 0]),\n",
    "         ('Al', [0, 0.5, 0.5]),   \n",
    "         ('B', [0, 0.3839, 0.5]), \n",
    "         ('B', [0.5, 0.6646, 0.5])]\n",
    "\n",
    "crystal_structure = crystal(\n",
    "    symbols=[atom[0] for atom in atoms],\n",
    "    basis=[atom[1] for atom in atoms],  \n",
    "    spacegroup=spacegroup,\n",
    "    cellpar=[a, b, c, 90, 90, 90]       \n",
    ")\n",
    "\n",
    "view(crystal_structure)\n",
    "# write(\"Cr2AlB2.vasp\", crystal_structure, sort=True, vasp5=True)"
   ]
  }
 ],
 "metadata": {
  "kernelspec": {
   "display_name": "Python 3 (ipykernel)",
   "language": "python",
   "name": "python3"
  },
  "language_info": {
   "codemirror_mode": {
    "name": "ipython",
    "version": 3
   },
   "file_extension": ".py",
   "mimetype": "text/x-python",
   "name": "python",
   "nbconvert_exporter": "python",
   "pygments_lexer": "ipython3",
   "version": "3.10.9"
  }
 },
 "nbformat": 4,
 "nbformat_minor": 5
}
