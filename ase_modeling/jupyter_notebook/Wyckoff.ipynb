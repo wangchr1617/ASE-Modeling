{
 "cells": [
  {
   "cell_type": "markdown",
   "id": "df548b5d",
   "metadata": {},
   "source": [
    "## 根据空间群和 Wyckoff 位置生成结构文件"
   ]
  },
  {
   "cell_type": "code",
   "execution_count": null,
   "id": "0e7749f4",
   "metadata": {},
   "outputs": [],
   "source": [
    "from ase.io import write\n",
    "from ase.spacegroup import crystal\n",
    "from ase.spacegroup import get_spacegroup\n",
    "from ase.visualize import view\n",
    "\n",
    "def identify_system_symmetry(atoms):\n",
    "    symmetry = get_spacegroup(atoms, symprec=1e-5)\n",
    "    international_symbol = symmetry.symbol\n",
    "    spacegroup_number = symmetry.no\n",
    "    return international_symbol, spacegroup_number\n",
    "    \n",
    "a, b, c = 3.182, 3.182, 11.868\n",
    "spacegroup = 187\n",
    "\n",
    "atoms = [('Hf', [0.3333, 0.6667, 0.2875]), \n",
    "         ('Hf', [0.3333, 0.6667, 0.0000]), \n",
    "         ('B', [0.6667, 0.3333, 0.1467]), \n",
    "         ('B', [0.0000, 0.0000, 0.1474]), \n",
    "         ('In', [0.6667, 0.3333, 0.5000])]\n",
    "\n",
    "crystal_structure = crystal(\n",
    "    symbols=[atom[0] for atom in atoms],\n",
    "    basis=[atom[1] for atom in atoms],  \n",
    "    spacegroup=spacegroup,\n",
    "    cellpar=[a, b, c, 90, 90, 120]       \n",
    ")\n",
    "crystal_structure = crystal_structure.copy() * (1, 1, 2)\n",
    "write(\"Hf3InB4_P-6m2.vasp\", crystal_structure, direct=True, sort=True, vasp5=True)\n",
    "\n",
    "print(identify_system_symmetry(crystal_structure))\n",
    "view(crystal_structure)"
   ]
  }
 ],
 "metadata": {
  "kernelspec": {
   "display_name": "Python 3 (ipykernel)",
   "language": "python",
   "name": "python3"
  },
  "language_info": {
   "codemirror_mode": {
    "name": "ipython",
    "version": 3
   },
   "file_extension": ".py",
   "mimetype": "text/x-python",
   "name": "python",
   "nbconvert_exporter": "python",
   "pygments_lexer": "ipython3",
   "version": "3.11.7"
  }
 },
 "nbformat": 4,
 "nbformat_minor": 5
}
